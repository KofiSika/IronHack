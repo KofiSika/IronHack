{
 "cells": [
  {
   "cell_type": "markdown",
   "id": "5ef2e651",
   "metadata": {},
   "source": [
    "# MOVEMENT  PREDICTION BASED ON BIKE USAGE"
   ]
  },
  {
   "cell_type": "markdown",
   "id": "78492ffb",
   "metadata": {
    "toc": true
   },
   "source": [
    "<h1>Table of Contents<span class=\"tocSkip\"></span></h1>\n",
    "<div class=\"toc\"><ul class=\"toc-item\"><li><span><a href=\"#IMPORT-AND-CLEAN-THE-DATA\" data-toc-modified-id=\"IMPORT-AND-CLEAN-THE-DATA-1\"><span class=\"toc-item-num\">1&nbsp;&nbsp;</span>IMPORT AND CLEAN THE DATA</a></span><ul class=\"toc-item\"><li><span><a href=\"#Import-the-Data\" data-toc-modified-id=\"Import-the-Data-1.1\"><span class=\"toc-item-num\">1.1&nbsp;&nbsp;</span>Import the Data</a></span></li><li><span><a href=\"#Data-Exploration\" data-toc-modified-id=\"Data-Exploration-1.2\"><span class=\"toc-item-num\">1.2&nbsp;&nbsp;</span>Data Exploration</a></span></li><li><span><a href=\"#Data-Cleaning\" data-toc-modified-id=\"Data-Cleaning-1.3\"><span class=\"toc-item-num\">1.3&nbsp;&nbsp;</span>Data Cleaning</a></span></li><li><span><a href=\"#Data-Visualisation\" data-toc-modified-id=\"Data-Visualisation-1.4\"><span class=\"toc-item-num\">1.4&nbsp;&nbsp;</span>Data Visualisation</a></span><ul class=\"toc-item\"><li><span><a href=\"#Pairplots-to-check-for-correlation\" data-toc-modified-id=\"Pairplots-to-check-for-correlation-1.4.1\"><span class=\"toc-item-num\">1.4.1&nbsp;&nbsp;</span>Pairplots to check for correlation</a></span></li><li><span><a href=\"#Boxplots-to-check-for-outliers\" data-toc-modified-id=\"Boxplots-to-check-for-outliers-1.4.2\"><span class=\"toc-item-num\">1.4.2&nbsp;&nbsp;</span>Boxplots to check for outliers</a></span></li><li><span><a href=\"#Heatmap-for-correlation-Matrix\" data-toc-modified-id=\"Heatmap-for-correlation-Matrix-1.4.3\"><span class=\"toc-item-num\">1.4.3&nbsp;&nbsp;</span>Heatmap for correlation Matrix</a></span></li></ul></li></ul></li><li><span><a href=\"#FEATURE-IMPORTANCE-WITH-RANDOM-FOREST\" data-toc-modified-id=\"FEATURE-IMPORTANCE-WITH-RANDOM-FOREST-2\"><span class=\"toc-item-num\">2&nbsp;&nbsp;</span>FEATURE IMPORTANCE WITH RANDOM FOREST</a></span><ul class=\"toc-item\"><li><span><a href=\"#Boxplot-of-Features\" data-toc-modified-id=\"Boxplot-of-Features-2.1\"><span class=\"toc-item-num\">2.1&nbsp;&nbsp;</span>Boxplot of Features</a></span></li></ul></li><li><span><a href=\"#FEATURE-ENGINEERING-AND-WRANGLING\" data-toc-modified-id=\"FEATURE-ENGINEERING-AND-WRANGLING-3\"><span class=\"toc-item-num\">3&nbsp;&nbsp;</span>FEATURE ENGINEERING AND WRANGLING</a></span><ul class=\"toc-item\"><li><span><a href=\"#Drop-features--not-needed-for-model\" data-toc-modified-id=\"Drop-features--not-needed-for-model-3.1\"><span class=\"toc-item-num\">3.1&nbsp;&nbsp;</span>Drop features  not needed for model</a></span></li><li><span><a href=\"#Convert--Numerical-into-Categorical-where-necessary\" data-toc-modified-id=\"Convert--Numerical-into-Categorical-where-necessary-3.2\"><span class=\"toc-item-num\">3.2&nbsp;&nbsp;</span>Convert  Numerical into Categorical where necessary</a></span></li><li><span><a href=\"#Split-target-from-Numeric-features\" data-toc-modified-id=\"Split-target-from-Numeric-features-3.3\"><span class=\"toc-item-num\">3.3&nbsp;&nbsp;</span>Split target from Numeric features</a></span></li><li><span><a href=\"#Scaling\" data-toc-modified-id=\"Scaling-3.4\"><span class=\"toc-item-num\">3.4&nbsp;&nbsp;</span>Scaling</a></span></li><li><span><a href=\"#Merge-scaled-and-dummied-categorical-data\" data-toc-modified-id=\"Merge-scaled-and-dummied-categorical-data-3.5\"><span class=\"toc-item-num\">3.5&nbsp;&nbsp;</span>Merge scaled and dummied categorical data</a></span><ul class=\"toc-item\"><li><span><a href=\"#Check-if-test-train-split-is-accurate\" data-toc-modified-id=\"Check-if-test-train-split-is-accurate-3.5.1\"><span class=\"toc-item-num\">3.5.1&nbsp;&nbsp;</span>Check if test train split is accurate</a></span></li></ul></li></ul></li><li><span><a href=\"#BUILD-MODELS\" data-toc-modified-id=\"BUILD-MODELS-4\"><span class=\"toc-item-num\">4&nbsp;&nbsp;</span>BUILD MODELS</a></span><ul class=\"toc-item\"><li><span><a href=\"#Model-1---Linear-Regression\" data-toc-modified-id=\"Model-1---Linear-Regression-4.1\"><span class=\"toc-item-num\">4.1&nbsp;&nbsp;</span>Model 1 - Linear Regression</a></span></li><li><span><a href=\"#Model-2---Decision-Tree\" data-toc-modified-id=\"Model-2---Decision-Tree-4.2\"><span class=\"toc-item-num\">4.2&nbsp;&nbsp;</span>Model 2 - Decision Tree</a></span></li><li><span><a href=\"#Model-3---Random-Forest\" data-toc-modified-id=\"Model-3---Random-Forest-4.3\"><span class=\"toc-item-num\">4.3&nbsp;&nbsp;</span>Model 3 - Random Forest</a></span></li></ul></li><li><span><a href=\"#STACKED-MODELS\" data-toc-modified-id=\"STACKED-MODELS-5\"><span class=\"toc-item-num\">5&nbsp;&nbsp;</span>STACKED MODELS</a></span><ul class=\"toc-item\"><li><span><a href=\"#Stacked-Model-1---LinearRegression-and-DecisionTree\" data-toc-modified-id=\"Stacked-Model-1---LinearRegression-and-DecisionTree-5.1\"><span class=\"toc-item-num\">5.1&nbsp;&nbsp;</span>Stacked Model 1 - LinearRegression and DecisionTree</a></span></li><li><span><a href=\"#Stacked-Model-2---DecisionTree-and-RandomForest\" data-toc-modified-id=\"Stacked-Model-2---DecisionTree-and-RandomForest-5.2\"><span class=\"toc-item-num\">5.2&nbsp;&nbsp;</span>Stacked Model 2 - DecisionTree and RandomForest</a></span></li><li><span><a href=\"#Stacked-Model-3---LinearRegrssion-and-RandomForest\" data-toc-modified-id=\"Stacked-Model-3---LinearRegrssion-and-RandomForest-5.3\"><span class=\"toc-item-num\">5.3&nbsp;&nbsp;</span>Stacked Model 3 - LinearRegrssion and RandomForest</a></span></li><li><span><a href=\"#Stacked-Model-Combo---dTree-and-rForest-and-lRegression\" data-toc-modified-id=\"Stacked-Model-Combo---dTree-and-rForest-and-lRegression-5.4\"><span class=\"toc-item-num\">5.4&nbsp;&nbsp;</span>Stacked Model Combo - dTree and rForest and lRegression</a></span></li></ul></li><li><span><a href=\"#FINDINGS-AND-CONCLUSION\" data-toc-modified-id=\"FINDINGS-AND-CONCLUSION-6\"><span class=\"toc-item-num\">6&nbsp;&nbsp;</span>FINDINGS AND CONCLUSION</a></span><ul class=\"toc-item\"><li><span><a href=\"#Create-new-df-with-predictions-and-original-count\" data-toc-modified-id=\"Create-new-df-with-predictions-and-original-count-6.1\"><span class=\"toc-item-num\">6.1&nbsp;&nbsp;</span>Create new df with predictions and original count</a></span></li></ul></li></ul></div>"
   ]
  },
  {
   "cell_type": "markdown",
   "id": "8a4b6221",
   "metadata": {},
   "source": [
    "## IMPORT AND CLEAN THE DATA"
   ]
  },
  {
   "cell_type": "code",
   "execution_count": null,
   "id": "4784ec78",
   "metadata": {},
   "outputs": [],
   "source": [
    "import pandas as pd\n",
    "import numpy as np \n",
    "import seaborn as sns\n",
    "import matplotlib.pyplot as plt"
   ]
  },
  {
   "cell_type": "markdown",
   "id": "5ef00a39",
   "metadata": {},
   "source": [
    "### Import the Data "
   ]
  },
  {
   "cell_type": "code",
   "execution_count": null,
   "id": "58da7791",
   "metadata": {},
   "outputs": [],
   "source": [
    "# Read the data using pandas \n",
    "df = pd.read_csv('hour.csv')"
   ]
  },
  {
   "cell_type": "code",
   "execution_count": null,
   "id": "2028939d",
   "metadata": {},
   "outputs": [],
   "source": [
    "df.head(1)"
   ]
  },
  {
   "cell_type": "markdown",
   "id": "bfceba34",
   "metadata": {},
   "source": [
    "### Data Exploration"
   ]
  },
  {
   "cell_type": "code",
   "execution_count": null,
   "id": "bd310e34",
   "metadata": {
    "scrolled": true
   },
   "outputs": [],
   "source": [
    "df.info()"
   ]
  },
  {
   "cell_type": "markdown",
   "id": "f73a0e29",
   "metadata": {},
   "source": [
    "### Data Cleaning"
   ]
  },
  {
   "cell_type": "code",
   "execution_count": null,
   "id": "662dcb6d",
   "metadata": {},
   "outputs": [],
   "source": [
    "#convert dates to datetime format \n",
    "df['dteday'] = pd.to_datetime(df['dteday'])\n",
    "df['hr'] = pd.to_datetime(df['hr'], format='%H').dt.hour\n"
   ]
  },
  {
   "cell_type": "code",
   "execution_count": null,
   "id": "2044a189",
   "metadata": {},
   "outputs": [],
   "source": [
    "#drop month and year columns and extract from dteday column \n",
    "df.drop(['mnth', 'yr'], axis = 1, inplace = True) "
   ]
  },
  {
   "cell_type": "code",
   "execution_count": null,
   "id": "aaf7c5f1",
   "metadata": {},
   "outputs": [],
   "source": [
    "#create new columns from main date column \n",
    "df['month'] = pd.DatetimeIndex(df['dteday']).month\n",
    "df['year']= pd.DatetimeIndex(df['dteday']).year "
   ]
  },
  {
   "cell_type": "code",
   "execution_count": null,
   "id": "b8377176",
   "metadata": {},
   "outputs": [],
   "source": [
    "df['year'].value_counts()"
   ]
  },
  {
   "cell_type": "code",
   "execution_count": null,
   "id": "a1ec2eda",
   "metadata": {},
   "outputs": [],
   "source": [
    "#rename some columns for easy use \n",
    "df.rename(columns={'dteday': 'date','weathersit':'weather'},\n",
    "          inplace=True, errors='raise')"
   ]
  },
  {
   "cell_type": "code",
   "execution_count": null,
   "id": "941c115d",
   "metadata": {
    "scrolled": true
   },
   "outputs": [],
   "source": [
    "df.info()"
   ]
  },
  {
   "cell_type": "code",
   "execution_count": null,
   "id": "ac40d2e9",
   "metadata": {},
   "outputs": [],
   "source": [
    "#export csv file for suture usage \n",
    "#df.to_csv('bike_share_clean.csv', index=False)\n",
    "#df0 = df.copy()"
   ]
  },
  {
   "cell_type": "code",
   "execution_count": null,
   "id": "afbf8f3f",
   "metadata": {},
   "outputs": [],
   "source": []
  },
  {
   "cell_type": "markdown",
   "id": "430a3499",
   "metadata": {},
   "source": [
    "### Data Visualisation "
   ]
  },
  {
   "cell_type": "code",
   "execution_count": null,
   "id": "c535830b",
   "metadata": {},
   "outputs": [],
   "source": [
    "#drop instant column as it does not serve any purpose in the data\n",
    "df.drop(['instant'], axis = 1, inplace = True)"
   ]
  },
  {
   "cell_type": "markdown",
   "id": "aaa8c887",
   "metadata": {},
   "source": [
    "#### Pairplots to check for correlation"
   ]
  },
  {
   "cell_type": "code",
   "execution_count": null,
   "id": "650d6623",
   "metadata": {
    "scrolled": false
   },
   "outputs": [],
   "source": [
    "#Create pairplot \n",
    "sns.pairplot(df[['cnt','windspeed','atemp','hum']]);"
   ]
  },
  {
   "cell_type": "code",
   "execution_count": null,
   "id": "d3aaa32f",
   "metadata": {
    "scrolled": true
   },
   "outputs": [],
   "source": [
    "#pairplot of windspeed against bike usage \n",
    "sns.pairplot(df[['cnt','windspeed']]);"
   ]
  },
  {
   "cell_type": "markdown",
   "id": "4ddaffaf",
   "metadata": {},
   "source": [
    "#### Boxplots to check for outliers "
   ]
  },
  {
   "cell_type": "code",
   "execution_count": null,
   "id": "b8436752",
   "metadata": {
    "scrolled": true
   },
   "outputs": [],
   "source": [
    "#boxplot of of windspeed\n",
    "df.boxplot(column=['windspeed','hum', 'temp','atemp'])"
   ]
  },
  {
   "cell_type": "code",
   "execution_count": null,
   "id": "fbd5616b",
   "metadata": {
    "scrolled": true
   },
   "outputs": [],
   "source": [
    "df.boxplot(column=['cnt'])"
   ]
  },
  {
   "cell_type": "markdown",
   "id": "5a476c9d",
   "metadata": {},
   "source": [
    "#### Heatmap for correlation Matrix"
   ]
  },
  {
   "cell_type": "code",
   "execution_count": null,
   "id": "a4a47443",
   "metadata": {},
   "outputs": [],
   "source": [
    "#heatmap corr matrix \n",
    "plt.figure(figsize=(16, 6))\n",
    "mask = np.triu(np.ones_like(df.corr(), dtype=np.bool_))\n",
    "heatmap = sns.heatmap(df.corr(), mask=mask, vmin=-1, vmax=1, annot=True, cmap='BrBG')"
   ]
  },
  {
   "cell_type": "markdown",
   "id": "c3c09126",
   "metadata": {},
   "source": [
    "Findings \n",
    "- From observation there seems to be no extreme outliers.( test again without any outliers)\n",
    "- temp and atemp seem to serve the serve purpose so i will drop temp and a temp\n",
    "- casual user and registered users highly correlate with cnt of users, drop both. "
   ]
  },
  {
   "cell_type": "markdown",
   "id": "c8ea368a",
   "metadata": {},
   "source": [
    "## FEATURE IMPORTANCE WITH RANDOM FOREST"
   ]
  },
  {
   "cell_type": "code",
   "execution_count": null,
   "id": "7dad58a5",
   "metadata": {},
   "outputs": [],
   "source": [
    "from sklearn.ensemble import RandomForestRegressor\n",
    "from sklearn.feature_selection import SelectFromModel"
   ]
  },
  {
   "cell_type": "code",
   "execution_count": null,
   "id": "4b9eb0a5",
   "metadata": {},
   "outputs": [],
   "source": [
    "X=df.drop(columns=['cnt','date'])\n",
    "y=df['cnt']"
   ]
  },
  {
   "cell_type": "code",
   "execution_count": null,
   "id": "086310ff",
   "metadata": {},
   "outputs": [],
   "source": [
    "tree=RandomForestRegressor()"
   ]
  },
  {
   "cell_type": "code",
   "execution_count": null,
   "id": "f9ee7b45",
   "metadata": {},
   "outputs": [],
   "source": [
    "tree.fit(X,y)"
   ]
  },
  {
   "cell_type": "code",
   "execution_count": null,
   "id": "d1adb7db",
   "metadata": {},
   "outputs": [],
   "source": [
    "tree.feature_importances_"
   ]
  },
  {
   "cell_type": "code",
   "execution_count": null,
   "id": "07dcc718",
   "metadata": {},
   "outputs": [],
   "source": [
    "sorted_col=tree.feature_importances_.argsort()"
   ]
  },
  {
   "cell_type": "markdown",
   "id": "1122e88b",
   "metadata": {},
   "source": [
    "### Boxplot of Features "
   ]
  },
  {
   "cell_type": "code",
   "execution_count": null,
   "id": "f5bfb847",
   "metadata": {},
   "outputs": [],
   "source": [
    "plt.barh(X.columns[sorted_col],tree.feature_importances_[sorted_col])\n",
    "plt.xlabel(\"feature importance on RF\");"
   ]
  },
  {
   "cell_type": "code",
   "execution_count": null,
   "id": "74d156a0",
   "metadata": {},
   "outputs": [],
   "source": []
  },
  {
   "cell_type": "markdown",
   "id": "70faec7c",
   "metadata": {},
   "source": [
    "## FEATURE ENGINEERING AND WRANGLING "
   ]
  },
  {
   "cell_type": "markdown",
   "id": "865994bd",
   "metadata": {},
   "source": [
    "### Drop features  not needed for model "
   ]
  },
  {
   "cell_type": "code",
   "execution_count": null,
   "id": "121b1202",
   "metadata": {},
   "outputs": [],
   "source": [
    "# Also since we already have month year and day we will also drop the 'date' column \n",
    "#df = df.drop(columns=['month','year'])\n",
    "\n",
    "# drop temp as it is almost the same values as atemp \n",
    "#df = df.drop(columns=['temp'])\n",
    "\n",
    "#drop registered because it strongly correlates with the dataset\n",
    "df = df.drop(columns=['registered','casual'])"
   ]
  },
  {
   "cell_type": "markdown",
   "id": "a87e986a",
   "metadata": {},
   "source": [
    "### Convert  Numerical into Categorical where necessary"
   ]
  },
  {
   "cell_type": "code",
   "execution_count": null,
   "id": "e3d3d51c",
   "metadata": {},
   "outputs": [],
   "source": [
    "#Convert numericals to categoricals where needed \n",
    "df[['weather', 'weekday', 'holiday','season', 'hr','workingday','month','year']] = df[['weather', 'weekday', 'holiday','season', 'hr','workingday','month','year']].apply(lambda x: x.astype('category'))"
   ]
  },
  {
   "cell_type": "code",
   "execution_count": null,
   "id": "331d0c74",
   "metadata": {
    "scrolled": true
   },
   "outputs": [],
   "source": [
    "df.info()"
   ]
  },
  {
   "cell_type": "code",
   "execution_count": null,
   "id": "8dd67811",
   "metadata": {},
   "outputs": [],
   "source": [
    "# seperate categorical and numerical columns \n",
    "df_cat =df.select_dtypes(include=['category'])\n",
    "df_num = df._get_numeric_data()"
   ]
  },
  {
   "cell_type": "code",
   "execution_count": null,
   "id": "1e2215b8",
   "metadata": {
    "scrolled": true
   },
   "outputs": [],
   "source": [
    "# get dummies for categorical data \n",
    "df_cat = pd.get_dummies(df_cat, drop_first=True)\n",
    "df_cat"
   ]
  },
  {
   "cell_type": "markdown",
   "id": "4001045f",
   "metadata": {},
   "source": []
  },
  {
   "cell_type": "markdown",
   "id": "65d68b51",
   "metadata": {},
   "source": [
    "### Split target from Numeric features"
   ]
  },
  {
   "cell_type": "code",
   "execution_count": null,
   "id": "bf2a1128",
   "metadata": {},
   "outputs": [],
   "source": [
    "X=df_num.drop(['cnt'],axis=1)\n",
    "\n",
    "y=df['cnt'] #Where y is the dependent variable"
   ]
  },
  {
   "cell_type": "markdown",
   "id": "066599f1",
   "metadata": {},
   "source": [
    "### Scaling"
   ]
  },
  {
   "cell_type": "code",
   "execution_count": null,
   "id": "515abbe2",
   "metadata": {},
   "outputs": [],
   "source": [
    "#Normalize the numeric data\n",
    "from sklearn.preprocessing import StandardScaler\n",
    "\n",
    "scaler = StandardScaler()\n",
    "\n",
    "X_scaled = scaler.fit_transform(X)"
   ]
  },
  {
   "cell_type": "code",
   "execution_count": null,
   "id": "4f880e1d",
   "metadata": {
    "scrolled": false
   },
   "outputs": [],
   "source": [
    "X"
   ]
  },
  {
   "cell_type": "markdown",
   "id": "e2eb90ad",
   "metadata": {},
   "source": [
    "### Merge scaled and dummied categorical data"
   ]
  },
  {
   "cell_type": "code",
   "execution_count": null,
   "id": "d204ce10",
   "metadata": {},
   "outputs": [],
   "source": [
    "X_full = pd.concat([X, df_cat], axis=1)"
   ]
  },
  {
   "cell_type": "code",
   "execution_count": null,
   "id": "e333f115",
   "metadata": {
    "scrolled": true
   },
   "outputs": [],
   "source": [
    "X_full.head(1)"
   ]
  },
  {
   "cell_type": "markdown",
   "id": "82862ead",
   "metadata": {},
   "source": [
    "### Split data into test and train sets"
   ]
  },
  {
   "cell_type": "code",
   "execution_count": null,
   "id": "580aba8d",
   "metadata": {},
   "outputs": [],
   "source": [
    "#Split data into Test and train sets\n",
    "from sklearn.model_selection import train_test_split\n",
    "X_train, X_test, y_train, y_test = train_test_split(X_full, y, test_size = 0.3, random_state = 30)"
   ]
  },
  {
   "cell_type": "code",
   "execution_count": null,
   "id": "4ec75d3d",
   "metadata": {},
   "outputs": [],
   "source": [
    "X_train.head(1)"
   ]
  },
  {
   "cell_type": "markdown",
   "id": "99f26bb8",
   "metadata": {},
   "source": [
    "#### Check if test train split is accurate"
   ]
  },
  {
   "cell_type": "code",
   "execution_count": null,
   "id": "d459f4e4",
   "metadata": {},
   "outputs": [],
   "source": [
    "if (len(y_test)==len(X_test)) and (len(y_train)==len(X_train)):\n",
    "    print('All good')\n",
    "else:\n",
    "    print('Todo mal')"
   ]
  },
  {
   "cell_type": "markdown",
   "id": "13f07bb9",
   "metadata": {},
   "source": [
    "## BUILD MODELS "
   ]
  },
  {
   "cell_type": "markdown",
   "id": "d7af76b6",
   "metadata": {},
   "source": [
    "### Model 1 - Linear Regression "
   ]
  },
  {
   "cell_type": "code",
   "execution_count": null,
   "id": "e84c9cb1",
   "metadata": {},
   "outputs": [],
   "source": [
    "#Linear Regression\n",
    "from sklearn.linear_model import LinearRegression\n",
    "from sklearn.metrics import mean_squared_error\n",
    "from sklearn.metrics import mean_absolute_error\n",
    "from sklearn.metrics import r2_score"
   ]
  },
  {
   "cell_type": "code",
   "execution_count": null,
   "id": "2bd73860",
   "metadata": {},
   "outputs": [],
   "source": [
    "lr = LinearRegression()\n",
    "lr.fit(X_train, y_train)\n",
    "y_pred = lr.predict(X_test)"
   ]
  },
  {
   "cell_type": "code",
   "execution_count": null,
   "id": "30ce5a57",
   "metadata": {
    "scrolled": true
   },
   "outputs": [],
   "source": [
    "mse = mean_squared_error(y_test, y_pred)\n",
    "r = r2_score(y_test, y_pred)\n",
    "mae = mean_absolute_error(y_test,y_pred)\n",
    "print(\"Mean Squared Error:\",mse)\n",
    "print(\"R score:\",r)\n",
    "print(\"Mean Absolute Error:\",mae)"
   ]
  },
  {
   "cell_type": "code",
   "execution_count": null,
   "id": "c6557ba0",
   "metadata": {
    "scrolled": true
   },
   "outputs": [],
   "source": [
    "len(y_pred)"
   ]
  },
  {
   "cell_type": "markdown",
   "id": "e557c584",
   "metadata": {},
   "source": [
    "### Model 2 - Decision Tree "
   ]
  },
  {
   "cell_type": "code",
   "execution_count": null,
   "id": "dc236ba3",
   "metadata": {},
   "outputs": [],
   "source": [
    "# Decision Tree\n",
    "from sklearn.tree import DecisionTreeRegressor\n",
    "dt = DecisionTreeRegressor(random_state = 30)\n",
    "dt.fit(X_train, y_train)\n",
    "y_pred_dt = dt.predict(X_test)\n",
    "y_pred_dt"
   ]
  },
  {
   "cell_type": "code",
   "execution_count": null,
   "id": "119f056f",
   "metadata": {},
   "outputs": [],
   "source": [
    "#Test for Model Accuracy \n",
    "mse = mean_squared_error(y_test, y_pred_dt)\n",
    "r = r2_score(y_test, y_pred_dt)\n",
    "mae = mean_absolute_error(y_test,y_pred_dt)\n",
    "print(\"Mean Squared Error:\",mse)\n",
    "print(\"R score:\",r)\n",
    "print(\"Mean Absolute Error:\",mae)"
   ]
  },
  {
   "cell_type": "markdown",
   "id": "11a9fa57",
   "metadata": {},
   "source": [
    "### Model 3 - Random Forest "
   ]
  },
  {
   "cell_type": "code",
   "execution_count": null,
   "id": "3b96625f",
   "metadata": {},
   "outputs": [],
   "source": [
    "# Random Forest\n",
    "from sklearn.ensemble import RandomForestRegressor\n",
    "rf = RandomForestRegressor()\n",
    "rf.fit(X_train,y_train);\n",
    "y_pred_rf = rf.predict(X_test)"
   ]
  },
  {
   "cell_type": "code",
   "execution_count": null,
   "id": "d251c0d6",
   "metadata": {
    "scrolled": true
   },
   "outputs": [],
   "source": [
    "#Test for Model Accuracy \n",
    "mse = mean_squared_error(y_test, y_pred_rf)\n",
    "r = r2_score(y_test, y_pred_rf)\n",
    "mae = mean_absolute_error(y_test,y_pred_rf)\n",
    "print(\"Mean Squared Error:\",mse)\n",
    "print(\"R score:\",r)\n",
    "print(\"Mean Absolute Error:\",mae)"
   ]
  },
  {
   "cell_type": "markdown",
   "id": "3b83ed55",
   "metadata": {},
   "source": [
    "## STACKED MODELS "
   ]
  },
  {
   "cell_type": "code",
   "execution_count": null,
   "id": "069e8b3c",
   "metadata": {},
   "outputs": [],
   "source": [
    "from sklearn.ensemble import StackingRegressor "
   ]
  },
  {
   "cell_type": "markdown",
   "id": "3b8465fb",
   "metadata": {},
   "source": [
    "### Stacked Model 1 - LinearRegression and DecisionTree "
   ]
  },
  {
   "cell_type": "code",
   "execution_count": null,
   "id": "11e09304",
   "metadata": {},
   "outputs": [],
   "source": [
    "estimators_simple=[('lr',LinearRegression()),\n",
    "                  ('dt',DecisionTreeRegressor(random_state=30))]\n",
    "regr_stack_simple=StackingRegressor(estimators=estimators_simple)"
   ]
  },
  {
   "cell_type": "code",
   "execution_count": null,
   "id": "617f0263",
   "metadata": {},
   "outputs": [],
   "source": [
    "regr_stack_simple.fit(X_train,y_train)"
   ]
  },
  {
   "cell_type": "code",
   "execution_count": null,
   "id": "f5c07113",
   "metadata": {},
   "outputs": [],
   "source": [
    "y_pred_stack=regr_stack_simple.predict(X_test)"
   ]
  },
  {
   "cell_type": "code",
   "execution_count": null,
   "id": "d3ec03d8",
   "metadata": {
    "scrolled": true
   },
   "outputs": [],
   "source": [
    "len(y_pred_stack)"
   ]
  },
  {
   "cell_type": "code",
   "execution_count": null,
   "id": "5ce163c4",
   "metadata": {},
   "outputs": [],
   "source": [
    "mse = mean_squared_error(y_test, y_pred_stack)\n",
    "r = r2_score(y_test, y_pred_stack)\n",
    "mae = mean_absolute_error(y_test,y_pred_stack)\n",
    "#rmse=math.sqrt(mse)\n",
    "print(\"Mean Squared Error:\",mse)\n",
    "print(\"R score:\",r)\n",
    "print(\"Mean Absolute Error:\",mae)\n",
    "#print(\"Root mean squared Error:\",rmse)"
   ]
  },
  {
   "cell_type": "markdown",
   "id": "0e67d9ca",
   "metadata": {},
   "source": [
    "### Stacked Model 2 - DecisionTree and RandomForest "
   ]
  },
  {
   "cell_type": "code",
   "execution_count": null,
   "id": "6382fb58",
   "metadata": {},
   "outputs": [],
   "source": [
    "estimators_simple=[('rf',RandomForestRegressor()),\n",
    "                  ('dt',DecisionTreeRegressor(random_state=30))]\n",
    "regr_stack_simple=StackingRegressor(estimators=estimators_simple)"
   ]
  },
  {
   "cell_type": "code",
   "execution_count": null,
   "id": "2e5ae33f",
   "metadata": {},
   "outputs": [],
   "source": [
    "regr_stack_simple.fit(X_train,y_train)"
   ]
  },
  {
   "cell_type": "code",
   "execution_count": null,
   "id": "454b14a3",
   "metadata": {},
   "outputs": [],
   "source": [
    "y_pred2_stack = regr_stack_simple.predict(X_test)"
   ]
  },
  {
   "cell_type": "code",
   "execution_count": null,
   "id": "f1636344",
   "metadata": {},
   "outputs": [],
   "source": [
    "len(y_pred2_stack)"
   ]
  },
  {
   "cell_type": "code",
   "execution_count": null,
   "id": "d7ef0bdd",
   "metadata": {
    "scrolled": true
   },
   "outputs": [],
   "source": [
    "mse = mean_squared_error(y_test, y_pred2_stack)\n",
    "r = r2_score(y_test, y_pred2_stack)\n",
    "mae = mean_absolute_error(y_test,y_pred2_stack)\n",
    "#rmse=math.sqrt(mse)\n",
    "print(\"Mean Squared Error:\",mse)\n",
    "print(\"R score:\",r)\n",
    "print(\"Mean Absolute Error:\",mae)\n",
    "#print(\"Root mean squared Error:\",rmse)"
   ]
  },
  {
   "cell_type": "markdown",
   "id": "52f8bd75",
   "metadata": {},
   "source": [
    "### Stacked Model 3 - LinearRegrssion and RandomForest"
   ]
  },
  {
   "cell_type": "code",
   "execution_count": null,
   "id": "1043aade",
   "metadata": {},
   "outputs": [],
   "source": [
    "estimators_simple=[('rf',RandomForestRegressor()),\n",
    "                  ('lr',LinearRegression())]\n",
    "regr_stack_simple=StackingRegressor(estimators=estimators_simple)"
   ]
  },
  {
   "cell_type": "code",
   "execution_count": null,
   "id": "430437ae",
   "metadata": {},
   "outputs": [],
   "source": [
    "regr_stack_simple.fit(X_train,y_train)"
   ]
  },
  {
   "cell_type": "code",
   "execution_count": null,
   "id": "42f5e6e7",
   "metadata": {},
   "outputs": [],
   "source": [
    "y_pred2_stack = regr_stack_simple.predict(X_test)"
   ]
  },
  {
   "cell_type": "code",
   "execution_count": null,
   "id": "2404ba4a",
   "metadata": {},
   "outputs": [],
   "source": [
    "len(y_pred_stack)"
   ]
  },
  {
   "cell_type": "code",
   "execution_count": null,
   "id": "b07a3f66",
   "metadata": {},
   "outputs": [],
   "source": [
    "mse = mean_squared_error(y_test, y_pred2_stack)\n",
    "r = r2_score(y_test, y_pred2_stack)\n",
    "mae = mean_absolute_error(y_test,y_pred2_stack)\n",
    "#rmse=math.sqrt(mse)\n",
    "print(\"Mean Squared Error:\",mse)\n",
    "print(\"R score:\",r)\n",
    "print(\"Mean Absolute Error:\",mae)\n",
    "#print(\"Root mean squared Error:\",rmse)"
   ]
  },
  {
   "cell_type": "markdown",
   "id": "186a5a56",
   "metadata": {},
   "source": [
    "### Stacked Model Combo - dTree and rForest and lRegression"
   ]
  },
  {
   "cell_type": "code",
   "execution_count": null,
   "id": "ca48e3bf",
   "metadata": {},
   "outputs": [],
   "source": [
    "estimators_simple=[('lr',LinearRegression()),\n",
    "                  ('dt',DecisionTreeRegressor(random_state=30)),\n",
    "                  ('tree',RandomForestRegressor())]\n",
    "regr_stack_simple=StackingRegressor(estimators=estimators_simple)"
   ]
  },
  {
   "cell_type": "code",
   "execution_count": null,
   "id": "11c1c035",
   "metadata": {},
   "outputs": [],
   "source": [
    "regr_stack_simple.fit(X_train,y_train)"
   ]
  },
  {
   "cell_type": "code",
   "execution_count": null,
   "id": "2f0b3f02",
   "metadata": {},
   "outputs": [],
   "source": [
    "y_pred4_stack = regr_stack_simple.predict(X_test)"
   ]
  },
  {
   "cell_type": "code",
   "execution_count": null,
   "id": "4fc89902",
   "metadata": {},
   "outputs": [],
   "source": [
    "len(y_pred4_stack)"
   ]
  },
  {
   "cell_type": "code",
   "execution_count": null,
   "id": "e4121993",
   "metadata": {},
   "outputs": [],
   "source": [
    "mse = mean_squared_error(y_test, y_pred4_stack)\n",
    "r = r2_score(y_test, y_pred4_stack)\n",
    "mae = mean_absolute_error(y_test,y_pred4_stack)\n",
    "#rmse=math.sqrt(mse)\n",
    "print(\"Mean Squared Error:\",mse)\n",
    "print(\"R score:\",r)\n",
    "print(\"Mean Absolute Error:\",mae)\n",
    "#print(\"Root mean squared Error:\",rmse)"
   ]
  },
  {
   "cell_type": "markdown",
   "id": "81e535ae",
   "metadata": {},
   "source": [
    "## FINDINGS AND CONCLUSION "
   ]
  },
  {
   "cell_type": "markdown",
   "id": "df267a77",
   "metadata": {},
   "source": [
    "After running all the above models my best model will be the final stacked combo of all 3 models which gives  me the ff results:\n",
    "- Accuracy = 90.2%\n",
    "- Margin Error = 36 users "
   ]
  },
  {
   "cell_type": "markdown",
   "id": "4c49b54a",
   "metadata": {},
   "source": []
  },
  {
   "cell_type": "code",
   "execution_count": null,
   "id": "46ba582a",
   "metadata": {},
   "outputs": [],
   "source": [
    "\n"
   ]
  }
 ],
 "metadata": {
  "kernelspec": {
   "display_name": "Python 3",
   "language": "python",
   "name": "python3"
  },
  "language_info": {
   "codemirror_mode": {
    "name": "ipython",
    "version": 3
   },
   "file_extension": ".py",
   "mimetype": "text/x-python",
   "name": "python",
   "nbconvert_exporter": "python",
   "pygments_lexer": "ipython3",
   "version": "3.6.13"
  },
  "toc": {
   "base_numbering": 1,
   "nav_menu": {},
   "number_sections": true,
   "sideBar": true,
   "skip_h1_title": true,
   "title_cell": "Table of Contents",
   "title_sidebar": "Contents",
   "toc_cell": true,
   "toc_position": {
    "height": "calc(100% - 180px)",
    "left": "10px",
    "top": "150px",
    "width": "353.703px"
   },
   "toc_section_display": true,
   "toc_window_display": true
  }
 },
 "nbformat": 4,
 "nbformat_minor": 5
}
